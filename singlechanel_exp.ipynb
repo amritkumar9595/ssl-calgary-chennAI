{
 "cells": [
  {
   "cell_type": "code",
   "execution_count": null,
   "metadata": {},
   "outputs": [],
   "source": [
    "import torch\n",
    "import pathlib\n",
    "import random\n",
    "import transforms as T\n",
    "import h5py\n",
    "from torch.utils.data import Dataset\n",
    "import numpy as np\n",
    "from pathlib import Path\n",
    "import matplotlib.pyplot as plt\n",
    "from mri_data import MaskFunc"
   ]
  },
  {
   "cell_type": "code",
   "execution_count": null,
   "metadata": {},
   "outputs": [],
   "source": [
    "fname = \"/media/student1/RemovableVolume/calgary_new/singlechannel/Train/e13991s3_P01536.7.npy\"\n",
    "slice = 50\n",
    "data = np.load(fname)\n",
    "kspace = data[slice]\n",
    "plt.imshow(np.log(np.sqrt(kspace[:,:,0]**2 + kspace[:,:,1]*2)+1e-8))"
   ]
  },
  {
   "cell_type": "code",
   "execution_count": null,
   "metadata": {},
   "outputs": [],
   "source": [
    "kspace_cplx = kspace[:,:,0] + 1j*kspace[:,:,1]\n",
    "kspace_cplx = np.fft.fftshift(kspace_cplx)\n",
    "kspace_cplx.shape\n",
    "# plt.imshow(np.log(np.abs(kspace)+1e-8))\n"
   ]
  },
  {
   "cell_type": "code",
   "execution_count": null,
   "metadata": {},
   "outputs": [],
   "source": [
    "kspace_t = T.to_tensor(kspace_cplx)\n",
    "plt.imshow(torch.log(torch.sqrt(kspace_t[:,:,0]**2 + kspace_t[:,:,1]**2 + 1e-8)))\n",
    "plt.colorbar()"
   ]
  },
  {
   "cell_type": "code",
   "execution_count": null,
   "metadata": {},
   "outputs": [],
   "source": [
    "acc_factor = 8\n",
    "mask_func = MaskFunc([0.08], [acc_factor])\n",
    "seed =  tuple(map(ord, str(fname)))\n",
    "kspace_us, mask = T.apply_mask(kspace_t.float(),mask_func,seed)\n",
    "kspace_us.shape"
   ]
  },
  {
   "cell_type": "code",
   "execution_count": null,
   "metadata": {},
   "outputs": [],
   "source": [
    "kspace_cplx_us = kspace_us[:,:,0].numpy() + 1j*kspace_us[:,:,1].numpy()\n",
    "plt.imshow(np.log(np.abs(kspace_cplx_us)+1e-8))\n",
    "plt.colorbar()"
   ]
  },
  {
   "cell_type": "code",
   "execution_count": null,
   "metadata": {},
   "outputs": [],
   "source": [
    "img_cplx_gt = np.fft.ifft2(kspace_cplx)\n",
    "plt.imshow(np.abs(img_cplx_gt))\n",
    "plt.colorbar()"
   ]
  },
  {
   "cell_type": "code",
   "execution_count": null,
   "metadata": {},
   "outputs": [],
   "source": [
    "img_cplx_us = np.fft.ifft2(kspace_cplx_us)\n",
    "\n",
    "maxi = (np.abs(img_cplx_us)).max()\n",
    "\n",
    "plt.imshow(np.abs(img_cplx_us))\n",
    "plt.colorbar()"
   ]
  },
  {
   "cell_type": "code",
   "execution_count": null,
   "metadata": {},
   "outputs": [],
   "source": [
    "ksp_us_np = np.fft.fft2(img_cplx_us)\n",
    "plt.imshow(np.log(np.abs(ksp_us_np)+1e-8))\n",
    "plt.colorbar()"
   ]
  },
  {
   "cell_type": "code",
   "execution_count": null,
   "metadata": {},
   "outputs": [],
   "source": [
    "ksp_gt_np = np.fft.fft2(img_cplx_gt)\n",
    "plt.imshow(np.log(np.abs(ksp_gt_np)+1e-8))\n",
    "plt.colorbar()"
   ]
  },
  {
   "cell_type": "code",
   "execution_count": null,
   "metadata": {},
   "outputs": [],
   "source": [
    "fig = plt.figure(figsize=(10, 10))\n",
    "fig.add_subplot(1, 2, 1)\n",
    "plt.imshow(np.abs(img_cplx_us)/maxi)\n",
    "plt.colorbar()\n",
    "fig.add_subplot(1, 2,2 )\n",
    "plt.imshow(np.abs(img_cplx_gt)/maxi)\n",
    "plt.colorbar()"
   ]
  },
  {
   "cell_type": "code",
   "execution_count": null,
   "metadata": {},
   "outputs": [],
   "source": [
    "fig = plt.figure(figsize=(10, 10))\n",
    "fig.add_subplot(1, 2, 1)\n",
    "plt.imshow(torch.sqrt(kspace_t[:,:,0]**2+kspace_t[:,:,1]**2)/(10000*maxi))\n",
    "plt.colorbar()\n",
    "fig.add_subplot(1, 2,2 )\n",
    "plt.imshow(torch.sqrt(kspace_us[:,:,0]**2+kspace_us[:,:,1]**2)/(10000*maxi))\n",
    "plt.colorbar()"
   ]
  },
  {
   "cell_type": "markdown",
   "metadata": {},
   "source": [
    "# Dataloader check"
   ]
  },
  {
   "cell_type": "code",
   "execution_count": 1,
   "metadata": {},
   "outputs": [],
   "source": [
    "import torch\n",
    "import pathlib\n",
    "import random\n",
    "import transforms as T\n",
    "import h5py\n",
    "from torch.utils.data import Dataset\n",
    "import numpy as np\n",
    "import matplotlib.pyplot as plt\n",
    "from mri_data import MaskFunc\n",
    "\n",
    "from pathlib import Path"
   ]
  },
  {
   "cell_type": "code",
   "execution_count": null,
   "metadata": {},
   "outputs": [],
   "source": [
    "fname = \"/media/student1/RemovableVolume/calgary_new/singlechannel/Train/e14427s3_P76288.7.npy\"\n",
    "slice = 80\n",
    "data = np.load(fname)\n",
    "kspace = data[slice]\n",
    "plt.imshow(np.log(np.sqrt(kspace[:,:,0]**2 + kspace[:,:,1]*2)+1e-8))"
   ]
  },
  {
   "cell_type": "code",
   "execution_count": null,
   "metadata": {},
   "outputs": [],
   "source": [
    "kspace_cplx = kspace[:,:,0] + 1j*kspace[:,:,1]\n",
    "plt.imshow(np.log(np.abs(kspace_cplx)+1e-8))\n",
    "plt.colorbar()"
   ]
  },
  {
   "cell_type": "code",
   "execution_count": null,
   "metadata": {},
   "outputs": [],
   "source": [
    "kspace_np_gt = np.fft.fftshift(kspace_cplx)\n",
    "plt.imshow(np.log(np.abs(kspace_np_gt)+1e-8))\n",
    "plt.colorbar()"
   ]
  },
  {
   "cell_type": "code",
   "execution_count": null,
   "metadata": {},
   "outputs": [],
   "source": [
    "kspace_t_gt = T.to_tensor(kspace_np_gt)\n",
    "mask_func = MaskFunc([0.08], [8])\n",
    "seed =  tuple(map(ord, str(fname)))\n",
    "kspace_t_us, mask = T.apply_mask(kspace_t_gt.float(),mask_func,seed)\n",
    "# kspace_np_us = kspace_t_us[:,:,0].numpy() + 1j*kspace_t_us[:,:,1].numpy()\n",
    "\n",
    "plt.imshow(torch.log(torch.sqrt(kspace_t_us[:,:,0]**2 + kspace_t_us[:,:,1]**2)+1e-8))\n",
    "plt.colorbar()"
   ]
  },
  {
   "cell_type": "code",
   "execution_count": null,
   "metadata": {},
   "outputs": [],
   "source": [
    "img_t_us = T.ifft2(kspace_t_us)\n",
    "plt.imshow(torch.sqrt(img_t_us[:,:,0]**2 + img_t_us[:,:,1]**2))\n",
    "plt.colorbar()"
   ]
  },
  {
   "cell_type": "code",
   "execution_count": null,
   "metadata": {},
   "outputs": [],
   "source": [
    "img_t_us_abs =  T.complex_abs(img_t_us)\n",
    "img_t_gt =  (T.ifft2(kspace_t_gt))"
   ]
  },
  {
   "cell_type": "code",
   "execution_count": null,
   "metadata": {},
   "outputs": [],
   "source": [
    "maxi = img_t_us_abs.max()"
   ]
  },
  {
   "cell_type": "code",
   "execution_count": null,
   "metadata": {},
   "outputs": [],
   "source": [
    "fig = plt.figure(figsize=(10, 10))\n",
    "fig.add_subplot(1, 2, 1)\n",
    "plt.imshow(T.complex_abs(img_t_us)/maxi)\n",
    "plt.colorbar()\n",
    "fig.add_subplot(1, 2,2 )\n",
    "plt.imshow(T.complex_abs(img_t_gt)/maxi)\n",
    "plt.colorbar()"
   ]
  },
  {
   "cell_type": "code",
   "execution_count": null,
   "metadata": {},
   "outputs": [],
   "source": [
    "fig = plt.figure(figsize=(10, 10))\n",
    "fig.add_subplot(1, 2, 1)\n",
    "plt.imshow(torch.sqrt(kspace_t_gt[:,:,0]**2+kspace_t_gt[:,:,1]**2)/(maxi))\n",
    "plt.colorbar()\n",
    "fig.add_subplot(1, 2,2 )\n",
    "plt.imshow(torch.sqrt(kspace_t_us[:,:,0]**2+kspace_t_us[:,:,1]**2)/(maxi))\n",
    "plt.colorbar()"
   ]
  },
  {
   "cell_type": "code",
   "execution_count": null,
   "metadata": {},
   "outputs": [],
   "source": []
  },
  {
   "cell_type": "code",
   "execution_count": null,
   "metadata": {},
   "outputs": [],
   "source": []
  },
  {
   "cell_type": "code",
   "execution_count": null,
   "metadata": {},
   "outputs": [],
   "source": []
  },
  {
   "cell_type": "code",
   "execution_count": 2,
   "metadata": {},
   "outputs": [],
   "source": [
    "from collections import namedtuple\n",
    "from train_dualencoder_scratch import create_data_loaders\n",
    "from tqdm import tqdm\n",
    "from torch.nn import functional as F"
   ]
  },
  {
   "cell_type": "code",
   "execution_count": 3,
   "metadata": {},
   "outputs": [],
   "source": [
    "args = {'center_fractions':[0.08],'accelerations':[8],'challenge':'singlecoil',\n",
    "       'train_path':Path('/media/student1/RemovableVolume/calgary_new/singlechannel/Train/'),\n",
    "       'validation_path':Path('/media/student1/RemovableVolume/calgary_new/singlechannel/Val/'),\n",
    "       'resolution':320,\n",
    "       'sample_rate':0.1,\n",
    "       'batch_size':1,\n",
    "        'acceleration_factor':8,\n",
    "        'dataset_type':'calgary',\n",
    "        'sample':1,\n",
    "        'device':'cuda',\n",
    "        'data_parallel':False,\n",
    "        'num_chans':32,\n",
    "        'num_pools':4,\n",
    "        'drop_prob':0\n",
    "       }\n",
    "# d_named = namedtuple(\"Employee\", d.keys())(*d.values())\n",
    "argsobj = namedtuple('args',args.keys())(*args.values())"
   ]
  },
  {
   "cell_type": "code",
   "execution_count": 4,
   "metadata": {},
   "outputs": [
    {
     "data": {
      "text/plain": [
       "130"
      ]
     },
     "execution_count": 4,
     "metadata": {},
     "output_type": "execute_result"
    }
   ],
   "source": [
    "train_loader, dev_loader, display_loader = create_data_loaders(argsobj)\n",
    "len(train_loader.dataset)"
   ]
  },
  {
   "cell_type": "code",
   "execution_count": 5,
   "metadata": {},
   "outputs": [
    {
     "name": "stdout",
     "output_type": "stream",
     "text": [
      "torch.Size([1, 256, 256, 2]) torch.Size([1, 256, 256]) torch.Size([1, 256, 256])\n"
     ]
    }
   ],
   "source": [
    "for ksp_gt, ksp,img, tgt,maxi in (train_loader):\n",
    "    print(ksp.shape,img.shape,tgt.shape)\n",
    "    break"
   ]
  },
  {
   "cell_type": "code",
   "execution_count": 6,
   "metadata": {},
   "outputs": [
    {
     "data": {
      "text/plain": [
       "<matplotlib.colorbar.Colorbar at 0x7f222a0df588>"
      ]
     },
     "execution_count": 6,
     "metadata": {},
     "output_type": "execute_result"
    },
    {
     "data": {
      "image/png": "[encoded data removed]",
      "text/plain": [
       "<Figure size 720x720 with 8 Axes>"
      ]
     },
     "metadata": {
      "needs_background": "light"
     },
     "output_type": "display_data"
    }
   ],
   "source": [
    "ksp = ksp\n",
    "batch = 0\n",
    "fig = plt.figure(figsize=(10, 10))\n",
    "fig.add_subplot(1, 4, 1)\n",
    "plt.imshow(torch.sqrt(ksp[batch,:,:,0]**2+ksp[batch,:,:,1]**2))\n",
    "plt.colorbar()\n",
    "fig.add_subplot(1, 4, 2)\n",
    "plt.imshow(torch.sqrt(ksp_gt[batch,:,:,0]**2+ksp_gt[batch,:,:,1]**2))\n",
    "plt.colorbar()\n",
    "fig.add_subplot(1, 4,3)\n",
    "plt.imshow(torch.sqrt(img[batch,:,:]),cmap='gray')\n",
    "plt.colorbar()\n",
    "fig.add_subplot(1, 4,4)\n",
    "plt.imshow(tgt[batch,:,:],cmap='gray')\n",
    "plt.colorbar()"
   ]
  },
  {
   "cell_type": "code",
   "execution_count": 8,
   "metadata": {},
   "outputs": [
    {
     "data": {
      "text/plain": [
       "<matplotlib.colorbar.Colorbar at 0x7f222a14c6a0>"
      ]
     },
     "execution_count": 8,
     "metadata": {},
     "output_type": "execute_result"
    },
    {
     "data": {
      "image/png": "[encoded data removed]",
      "text/plain": [
       "<Figure size 432x288 with 2 Axes>"
      ]
     },
     "metadata": {
      "needs_background": "light"
     },
     "output_type": "display_data"
    }
   ],
   "source": [
    "err_ksp = torch.abs(ksp_gt.float()-ksp.float())\n",
    "plt.imshow(torch.sqrt(err_ksp[batch,:,:,0]**2+err_ksp[batch,:,:,1]**2))\n",
    "plt.colorbar()"
   ]
  },
  {
   "cell_type": "code",
   "execution_count": null,
   "metadata": {},
   "outputs": [],
   "source": [
    "# from train_wnet_scratch import build_model\n",
    "from models import UnetModel\n",
    "def build_unet(args):\n",
    "    # print(\"device\",args.device)\n",
    "    model = UnetModel(\n",
    "        in_chans=2,\n",
    "        out_chans=2,\n",
    "        chans=args.num_chans,\n",
    "        num_pool_layers=args.num_pools,\n",
    "        drop_prob=args.drop_prob\n",
    "    ).to(args.device)\n",
    "    \n",
    "    return model\n",
    "\n",
    "model = build_unet(argsobj)\n",
    "optimizer = torch.optim.Adam(model.parameters(), 0.0001, weight_decay=0)\n",
    "model"
   ]
  },
  {
   "cell_type": "code",
   "execution_count": null,
   "metadata": {},
   "outputs": [],
   "source": [
    "img = img.cuda().float()\n",
    "\n",
    "tgt = tgt.unsqueeze(1).cuda().float()\n",
    "ksp = ksp.permute(0,3,1,2).cuda().float()\n",
    "maxi = maxi.cuda().float()"
   ]
  },
  {
   "cell_type": "code",
   "execution_count": null,
   "metadata": {},
   "outputs": [],
   "source": [
    "losses=[]\n",
    "epochs=5000\n",
    "for i in tqdm(range(epochs)):\n",
    "#     print(\"ksp=,ksp_pred=\",ksp.shape)\n",
    "    ksp_pred = model(ksp)\n",
    "#     print(\"ksp_pred=\",ksp_pred.shape)\n",
    "    img_pred = T.complex_abs(T.ifft2(ksp_pred.permute(0,2,3,1))).unsqueeze(1)\n",
    "    loss = F.mse_loss(img_pred,tgt)\n",
    "    losses.append(loss)\n",
    "    \n",
    "    optimizer.zero_grad()\n",
    "    loss.backward()\n",
    "    optimizer.step()\n",
    "    \n",
    "    "
   ]
  },
  {
   "cell_type": "code",
   "execution_count": null,
   "metadata": {},
   "outputs": [],
   "source": [
    "plt.plot(losses)"
   ]
  },
  {
   "cell_type": "code",
   "execution_count": null,
   "metadata": {},
   "outputs": [],
   "source": [
    "plt.imshow(out[0,0,:,:].detach().cpu())\n",
    "plt.colorbar()"
   ]
  },
  {
   "cell_type": "code",
   "execution_count": null,
   "metadata": {},
   "outputs": [],
   "source": [
    "plt.imshow(torch.sqrt(ksp_pred[0,0,:,:].detach().cpu()**2 + ksp_pred[0,1,:,:].detach().cpu()**2))\n",
    "plt.colorbar()"
   ]
  },
  {
   "cell_type": "code",
   "execution_count": null,
   "metadata": {},
   "outputs": [],
   "source": [
    "plt.imshow(torch.log(torch.sqrt(ksp_pred[0,0,:,:].detach().cpu()**2 + ksp_pred[0,1,:,:].detach().cpu()**2)+1e-8))\n",
    "plt.colorbar()"
   ]
  },
  {
   "cell_type": "code",
   "execution_count": null,
   "metadata": {},
   "outputs": [],
   "source": [
    "plt.imshow(img_pred[0,0,:,:].detach().cpu())\n",
    "plt.colorbar()"
   ]
  },
  {
   "cell_type": "code",
   "execution_count": null,
   "metadata": {},
   "outputs": [],
   "source": []
  },
  {
   "cell_type": "code",
   "execution_count": null,
   "metadata": {},
   "outputs": [],
   "source": []
  },
  {
   "cell_type": "code",
   "execution_count": null,
   "metadata": {},
   "outputs": [],
   "source": []
  },
  {
   "cell_type": "code",
   "execution_count": null,
   "metadata": {},
   "outputs": [],
   "source": []
  },
  {
   "cell_type": "code",
   "execution_count": null,
   "metadata": {},
   "outputs": [],
   "source": []
  },
  {
   "cell_type": "code",
   "execution_count": null,
   "metadata": {},
   "outputs": [],
   "source": []
  },
  {
   "cell_type": "code",
   "execution_count": null,
   "metadata": {},
   "outputs": [],
   "source": [
    "\n",
    "img_gt = T.ifft2(kspace_t)\n",
    "plt.imshow(torch.sqrt(img_gt[:,:,0]**2 + img_gt[:,:,1]**2))\n",
    "plt.colorbar()"
   ]
  },
  {
   "cell_type": "code",
   "execution_count": null,
   "metadata": {},
   "outputs": [],
   "source": [
    "ksp = T.fft2(img_gt)\n",
    "plt.imshow(torch.log(torch.sqrt(ksp[:,:,0]**2 + ksp[:,:,1]**2 + 1e-8)))\n",
    "plt.colorbar()"
   ]
  },
  {
   "cell_type": "code",
   "execution_count": null,
   "metadata": {},
   "outputs": [],
   "source": [
    "\n",
    "img_gt = T.ifft2(ksp)\n",
    "\n",
    "# img_gt = torch.ifft(kspace_t, 2, normalized=True)\n",
    "plt.imshow(torch.sqrt(img_gt[:,:,0]**2 + img_gt[:,:,1]**2))\n",
    "plt.colorbar()"
   ]
  },
  {
   "cell_type": "code",
   "execution_count": null,
   "metadata": {},
   "outputs": [],
   "source": [
    "img_gt_abs = T.complex_abs(img_gt)\n",
    "plt.imshow(img_gt_abs)\n",
    "plt.colorbar()"
   ]
  },
  {
   "cell_type": "code",
   "execution_count": null,
   "metadata": {},
   "outputs": [],
   "source": []
  },
  {
   "cell_type": "code",
   "execution_count": null,
   "metadata": {},
   "outputs": [],
   "source": []
  },
  {
   "cell_type": "code",
   "execution_count": null,
   "metadata": {},
   "outputs": [],
   "source": [
    "plt.imshow(torch.log(torch.sqrt(kspace_us[:,:,0]**2 + kspace_us[:,:,1]**2 + 1e-8)))\n",
    "plt.colorbar()"
   ]
  },
  {
   "cell_type": "code",
   "execution_count": null,
   "metadata": {},
   "outputs": [],
   "source": [
    "img_us = T.ifft2(kspace_us)\n",
    "img_us_abs = T.complex_abs(img_us)\n",
    "\n",
    "# img_gt = torch.ifft(kspace_t, 2, normalized=True)\n",
    "plt.imshow(img_us_abs)\n",
    "plt.colorbar()\n"
   ]
  },
  {
   "cell_type": "code",
   "execution_count": null,
   "metadata": {},
   "outputs": [],
   "source": [
    "ksp_us = T.fft2(img_us)\n",
    "plt.imshow(torch.log(torch.sqrt(ksp_us[:,:,0]**2 + ksp_us[:,:,1]**2 + 1e-8)))\n",
    "plt.colorbar()"
   ]
  },
  {
   "cell_type": "code",
   "execution_count": null,
   "metadata": {},
   "outputs": [],
   "source": [
    "img_us = T.ifft2(ksp_us)\n",
    "img_us_abs = T.complex_abs(img_us)\n",
    "\n",
    "# img_gt = torch.ifft(kspace_t, 2, normalized=True)\n",
    "plt.imshow(img_us_abs)\n",
    "plt.colorbar()"
   ]
  },
  {
   "cell_type": "code",
   "execution_count": null,
   "metadata": {},
   "outputs": [],
   "source": [
    "img_us_abs = T.complex_abs(img_us)\n",
    "plt.imshow(img_us_abs)\n",
    "plt.colorbar()"
   ]
  },
  {
   "cell_type": "code",
   "execution_count": null,
   "metadata": {},
   "outputs": [],
   "source": [
    "fig = plt.figure(figsize=(10, 10))\n",
    "fig.add_subplot(1, 2, 1)\n",
    "plt.imshow(img_us_abs/img_us_abs.max())\n",
    "plt.colorbar()\n",
    "fig.add_subplot(1, 2,2 )\n",
    "plt.imshow(img_gt_abs/img_us_abs.max())\n",
    "plt.colorbar()\n"
   ]
  },
  {
   "cell_type": "code",
   "execution_count": null,
   "metadata": {},
   "outputs": [],
   "source": [
    "fig = plt.figure(figsize=(10, 10))\n",
    "fig.add_subplot(1, 2, 1)\n",
    "plt.imshow((torch.log(torch.sqrt(kspace_us[:,:,0]**2 + kspace_us[:,:,1]**2 + 1e-8)))/img_us_abs.max()*100000)\n",
    "plt.colorbar()\n",
    "fig.add_subplot(1, 2,2 )\n",
    "plt.imshow((torch.log(torch.sqrt(kspace_t[:,:,0]**2 + kspace_t[:,:,1]**2 + 1e-8)))/img_us_abs.max()*100000)\n",
    "plt.colorbar()\n"
   ]
  },
  {
   "cell_type": "markdown",
   "metadata": {},
   "source": [
    "# submission check"
   ]
  },
  {
   "cell_type": "code",
   "execution_count": null,
   "metadata": {},
   "outputs": [],
   "source": [
    "import numpy as np\n",
    "import transforms as T\n",
    "import matplotlib.pyplot as plt"
   ]
  },
  {
   "cell_type": "code",
   "execution_count": null,
   "metadata": {},
   "outputs": [],
   "source": [
    "recons_file = '/media/student1/RemovableVolume/singlechannel_calgary_submission/acc_4x/scratch/25_volumes/e14155s3_P69120.7.npy'\n",
    "recons = np.load(recons_file,allow_pickle=True)\n",
    "recons.shape"
   ]
  },
  {
   "cell_type": "code",
   "execution_count": null,
   "metadata": {},
   "outputs": [],
   "source": [
    "target_file = '/media/student1/RemovableVolume/calgary_new/singlechannel/Test2/e14155s3_P69120.7.npy'\n",
    "data = np.load(target_file)\n",
    "num_slices =  data.shape[0]\n",
    "print(\"num_slice\",num_slices)\n",
    "kspace = data[20:num_slices-20,:,:]\n",
    "\n",
    "kspace_cplx = kspace[:,:,:,0] + 1j*kspace[:,:,:,1]\n",
    "kspace_cplx = np.fft.fftshift(kspace_cplx,axes=(1,2))\n",
    "kspace_t = T.to_tensor(kspace_cplx)\n",
    "\n",
    "target_abs = T.complex_abs(T.ifft2(kspace_t)).float().numpy()\n",
    "print(\"target=\",target_abs.shape)"
   ]
  },
  {
   "cell_type": "code",
   "execution_count": null,
   "metadata": {},
   "outputs": [],
   "source": [
    "slice=0\n",
    "fig = plt.figure(figsize=(10, 10))\n",
    "fig.add_subplot(1, 2, 1)\n",
    "plt.imshow(recons[slice,:,:])\n",
    "plt.colorbar()\n",
    "fig.add_subplot(1, 2,2 )\n",
    "plt.imshow(target_abs[slice,:,:])\n",
    "plt.colorbar()"
   ]
  },
  {
   "cell_type": "code",
   "execution_count": null,
   "metadata": {},
   "outputs": [],
   "source": [
    "data.shape"
   ]
  },
  {
   "cell_type": "code",
   "execution_count": null,
   "metadata": {},
   "outputs": [],
   "source": [
    "target_file = '/media/student1/RemovableVolume/calgary_new/singlechannel/Test2/e14155s3_P69120.7.npy'\n",
    "data = np.load(target_file)\n",
    "num_slices =  data.shape[0]\n",
    "print(\"num_slice\",num_slices)\n",
    "kspace = data[slice]\n",
    "\n",
    "kspace_cplx = kspace[:,:,0] + 1j*kspace[:,:,1]\n",
    "kspace_cplx = np.fft.fftshift(kspace_cplx)\n",
    "kspace_t = T.to_tensor(kspace_cplx)\n",
    "\n",
    "target_abs = T.complex_abs(T.ifft2(kspace_t)).float().numpy()\n",
    "print(\"target=\",target_abs.shape)"
   ]
  },
  {
   "cell_type": "code",
   "execution_count": null,
   "metadata": {},
   "outputs": [],
   "source": [
    "plt.imshow(target_abs)"
   ]
  },
  {
   "cell_type": "code",
   "execution_count": null,
   "metadata": {},
   "outputs": [],
   "source": []
  }
 ],
 "metadata": {
  "kernelspec": {
   "display_name": "Python 3",
   "language": "python",
   "name": "python3"
  },
  "language_info": {
   "codemirror_mode": {
    "name": "ipython",
    "version": 3
   },
   "file_extension": ".py",
   "mimetype": "text/x-python",
   "name": "python",
   "nbconvert_exporter": "python",
   "pygments_lexer": "ipython3",
   "version": "3.6.8"
  }
 },
 "nbformat": 4,
 "nbformat_minor": 2
}
